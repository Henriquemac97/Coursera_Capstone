{
 "cells": [
  {
   "cell_type": "markdown",
   "metadata": {},
   "source": [
    "# 1) Introduction"
   ]
  },
  {
   "cell_type": "markdown",
   "metadata": {},
   "source": [
    "The main motivation of this project is to contribute to a better understanding of how the process of dissemination of **COVID-19** occurred in the world. Many reports are shown daily to update us on the numbers of the disease, but there are no useful **visual tools** to show in a clear and didactic way how this process happened since the beginning, in December 2019.\n",
    "Therefore, to fill this gap, it becomes necessary to compile the process of the emergence of new cases, day by day, country by country, in a choropleth map from the first case to the present day by a simple but powerful **GIF**."
   ]
  },
  {
   "cell_type": "code",
   "execution_count": 16,
   "metadata": {},
   "outputs": [
    {
     "name": "stdout",
     "output_type": "stream",
     "text": [
      "iso_code                     object\n",
      "location                     object\n",
      "date                         object\n",
      "total_cases                   int64\n",
      "new_cases                     int64\n",
      "total_deaths                  int64\n",
      "new_deaths                    int64\n",
      "total_cases_per_million     float64\n",
      "new_cases_per_million       float64\n",
      "total_deaths_per_million    float64\n",
      "new_deaths_per_million      float64\n",
      "total_tests                 float64\n",
      "new_tests                   float64\n",
      "total_tests_per_thousand    float64\n",
      "new_tests_per_thousand      float64\n",
      "tests_units                  object\n",
      "dtype: object\n"
     ]
    }
   ],
   "source": [
    "print(df.dtypes)"
   ]
  }
 ],
 "metadata": {
  "kernelspec": {
   "display_name": "Python",
   "language": "python",
   "name": "conda-env-python-py"
  },
  "language_info": {
   "codemirror_mode": {
    "name": "ipython",
    "version": 3
   },
   "file_extension": ".py",
   "mimetype": "text/x-python",
   "name": "python",
   "nbconvert_exporter": "python",
   "pygments_lexer": "ipython3",
   "version": "3.6.10"
  }
 },
 "nbformat": 4,
 "nbformat_minor": 4
}
