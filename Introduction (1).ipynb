{
 "cells": [
  {
   "cell_type": "markdown",
   "metadata": {},
   "source": [
    "# 1) Introduction"
   ]
  },
  {
   "cell_type": "markdown",
   "metadata": {},
   "source": [
    "The main motivation of this project is to contribute to a better understanding of how the process of dissemination of **COVID-19** occurred in the world. Many reports are shown daily to update us on the numbers of the disease, but there are no useful **visual tools** to show in a clear and didactic way how this process happened since the beginning, in December 2019.\n",
    "Therefore, to fill this gap, it becomes necessary to compile the process of the emergence of new cases, day by day, country by country, in a choropleth map from the first case to the present day by a simple but powerful **GIF**."
   ]
  }
 ],
 "metadata": {
  "kernelspec": {
   "display_name": "Python",
   "language": "python",
   "name": "conda-env-python-py"
  },
  "language_info": {
   "codemirror_mode": {
    "name": "ipython",
    "version": 3
   },
   "file_extension": ".py",
   "mimetype": "text/x-python",
   "name": "python",
   "nbconvert_exporter": "python",
   "pygments_lexer": "ipython3",
   "version": "3.6.10"
  }
 },
 "nbformat": 4,
 "nbformat_minor": 4
}
