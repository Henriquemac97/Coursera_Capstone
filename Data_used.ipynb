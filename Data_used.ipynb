{
 "cells": [
  {
   "cell_type": "markdown",
   "metadata": {},
   "source": [
    "# 2) Data used"
   ]
  },
  {
   "cell_type": "markdown",
   "metadata": {},
   "source": [
    "To do this, it will be used a free provided data set compiled by **Our World in Data**, an organization specialized in researches and data analytics about changes and global problems. The data set has the following structure:"
   ]
  },
  {
   "cell_type": "markdown",
   "metadata": {},
   "source": [
    "* **Columns**: There are 16 columns,that are representing the ISO CODE, LOCATION, DATE, TOTAL CASES, NEW CASES, TOTAL DEATHS, NEW DEATHS, ALL CASES PER MILLION, TOTAL DEATHS PER MILLION, NEW DEATHS PER MILLION, TOTAL TESTS, TESTS PER THOUSAND and TESTS UNITS. "
   ]
  },
  {
   "cell_type": "markdown",
   "metadata": {},
   "source": [
    "* **Rows**: Each row represents a case of country and date. For example, there are one row for Brazil in 2020-02-13 and another row for Brazil in 2020-03-01. This structure is very important because it will turn possible to monitor the process over the time."
   ]
  },
  {
   "cell_type": "markdown",
   "metadata": {},
   "source": [
    "Bellow, we can have a better understanding of how it works and why it will be useful:"
   ]
  },
  {
   "cell_type": "code",
   "execution_count": 1,
   "metadata": {},
   "outputs": [
    {
     "data": {
      "text/html": [
       "<div>\n",
       "<style scoped>\n",
       "    .dataframe tbody tr th:only-of-type {\n",
       "        vertical-align: middle;\n",
       "    }\n",
       "\n",
       "    .dataframe tbody tr th {\n",
       "        vertical-align: top;\n",
       "    }\n",
       "\n",
       "    .dataframe thead th {\n",
       "        text-align: right;\n",
       "    }\n",
       "</style>\n",
       "<table border=\"1\" class=\"dataframe\">\n",
       "  <thead>\n",
       "    <tr style=\"text-align: right;\">\n",
       "      <th></th>\n",
       "      <th>iso_code</th>\n",
       "      <th>location</th>\n",
       "      <th>date</th>\n",
       "      <th>total_cases</th>\n",
       "      <th>new_cases</th>\n",
       "      <th>total_deaths</th>\n",
       "      <th>new_deaths</th>\n",
       "      <th>total_cases_per_million</th>\n",
       "      <th>new_cases_per_million</th>\n",
       "      <th>total_deaths_per_million</th>\n",
       "      <th>new_deaths_per_million</th>\n",
       "      <th>total_tests</th>\n",
       "      <th>new_tests</th>\n",
       "      <th>total_tests_per_thousand</th>\n",
       "      <th>new_tests_per_thousand</th>\n",
       "      <th>tests_units</th>\n",
       "    </tr>\n",
       "  </thead>\n",
       "  <tbody>\n",
       "    <tr>\n",
       "      <th>0</th>\n",
       "      <td>BRA</td>\n",
       "      <td>Brazil</td>\n",
       "      <td>2020-05-03</td>\n",
       "      <td>96559</td>\n",
       "      <td>4970</td>\n",
       "      <td>6750</td>\n",
       "      <td>421</td>\n",
       "      <td>454.268</td>\n",
       "      <td>23.382</td>\n",
       "      <td>31.756</td>\n",
       "      <td>1.981</td>\n",
       "      <td>NaN</td>\n",
       "      <td>NaN</td>\n",
       "      <td>NaN</td>\n",
       "      <td>NaN</td>\n",
       "      <td>NaN</td>\n",
       "    </tr>\n",
       "    <tr>\n",
       "      <th>1</th>\n",
       "      <td>BRA</td>\n",
       "      <td>Brazil</td>\n",
       "      <td>2020-05-02</td>\n",
       "      <td>91589</td>\n",
       "      <td>6209</td>\n",
       "      <td>6329</td>\n",
       "      <td>428</td>\n",
       "      <td>430.887</td>\n",
       "      <td>29.211</td>\n",
       "      <td>29.775</td>\n",
       "      <td>2.014</td>\n",
       "      <td>NaN</td>\n",
       "      <td>NaN</td>\n",
       "      <td>NaN</td>\n",
       "      <td>NaN</td>\n",
       "      <td>NaN</td>\n",
       "    </tr>\n",
       "    <tr>\n",
       "      <th>2</th>\n",
       "      <td>BRA</td>\n",
       "      <td>Brazil</td>\n",
       "      <td>2020-05-01</td>\n",
       "      <td>85380</td>\n",
       "      <td>7218</td>\n",
       "      <td>5901</td>\n",
       "      <td>435</td>\n",
       "      <td>401.676</td>\n",
       "      <td>33.958</td>\n",
       "      <td>27.762</td>\n",
       "      <td>2.046</td>\n",
       "      <td>NaN</td>\n",
       "      <td>NaN</td>\n",
       "      <td>NaN</td>\n",
       "      <td>NaN</td>\n",
       "      <td>NaN</td>\n",
       "    </tr>\n",
       "    <tr>\n",
       "      <th>3</th>\n",
       "      <td>BRA</td>\n",
       "      <td>Brazil</td>\n",
       "      <td>2020-04-30</td>\n",
       "      <td>78162</td>\n",
       "      <td>6276</td>\n",
       "      <td>5466</td>\n",
       "      <td>449</td>\n",
       "      <td>367.718</td>\n",
       "      <td>29.526</td>\n",
       "      <td>25.715</td>\n",
       "      <td>2.112</td>\n",
       "      <td>NaN</td>\n",
       "      <td>NaN</td>\n",
       "      <td>NaN</td>\n",
       "      <td>NaN</td>\n",
       "      <td>NaN</td>\n",
       "    </tr>\n",
       "    <tr>\n",
       "      <th>4</th>\n",
       "      <td>BRA</td>\n",
       "      <td>Brazil</td>\n",
       "      <td>2020-04-29</td>\n",
       "      <td>71886</td>\n",
       "      <td>5385</td>\n",
       "      <td>5017</td>\n",
       "      <td>474</td>\n",
       "      <td>338.193</td>\n",
       "      <td>25.334</td>\n",
       "      <td>23.603</td>\n",
       "      <td>2.230</td>\n",
       "      <td>NaN</td>\n",
       "      <td>NaN</td>\n",
       "      <td>NaN</td>\n",
       "      <td>NaN</td>\n",
       "      <td>NaN</td>\n",
       "    </tr>\n",
       "  </tbody>\n",
       "</table>\n",
       "</div>"
      ],
      "text/plain": [
       "  iso_code location        date  total_cases  new_cases  total_deaths  \\\n",
       "0      BRA   Brazil  2020-05-03        96559       4970          6750   \n",
       "1      BRA   Brazil  2020-05-02        91589       6209          6329   \n",
       "2      BRA   Brazil  2020-05-01        85380       7218          5901   \n",
       "3      BRA   Brazil  2020-04-30        78162       6276          5466   \n",
       "4      BRA   Brazil  2020-04-29        71886       5385          5017   \n",
       "\n",
       "   new_deaths  total_cases_per_million  new_cases_per_million  \\\n",
       "0         421                  454.268                 23.382   \n",
       "1         428                  430.887                 29.211   \n",
       "2         435                  401.676                 33.958   \n",
       "3         449                  367.718                 29.526   \n",
       "4         474                  338.193                 25.334   \n",
       "\n",
       "   total_deaths_per_million  new_deaths_per_million  total_tests  new_tests  \\\n",
       "0                    31.756                   1.981          NaN        NaN   \n",
       "1                    29.775                   2.014          NaN        NaN   \n",
       "2                    27.762                   2.046          NaN        NaN   \n",
       "3                    25.715                   2.112          NaN        NaN   \n",
       "4                    23.603                   2.230          NaN        NaN   \n",
       "\n",
       "   total_tests_per_thousand  new_tests_per_thousand tests_units  \n",
       "0                       NaN                     NaN         NaN  \n",
       "1                       NaN                     NaN         NaN  \n",
       "2                       NaN                     NaN         NaN  \n",
       "3                       NaN                     NaN         NaN  \n",
       "4                       NaN                     NaN         NaN  "
      ]
     },
     "execution_count": 1,
     "metadata": {},
     "output_type": "execute_result"
    }
   ],
   "source": [
    "import pandas as pd\n",
    "df = pd.read_excel(\"owid-covid-data.xlsx\")\n",
    "df1 = df.loc[df['location']=='Brazil'].sort_values(by=['total_deaths'],ascending=False).reset_index(drop=True)\n",
    "df1.head()"
   ]
  },
  {
   "cell_type": "markdown",
   "metadata": {},
   "source": [
    "Let's see the size of the dataset:"
   ]
  },
  {
   "cell_type": "code",
   "execution_count": 2,
   "metadata": {},
   "outputs": [
    {
     "name": "stdout",
     "output_type": "stream",
     "text": [
      "(14919, 16)\n"
     ]
    }
   ],
   "source": [
    "print(df.shape)"
   ]
  },
  {
   "cell_type": "markdown",
   "metadata": {},
   "source": [
    "And let's see the type of each column:"
   ]
  },
  {
   "cell_type": "code",
   "execution_count": 3,
   "metadata": {},
   "outputs": [
    {
     "name": "stdout",
     "output_type": "stream",
     "text": [
      "iso_code                     object\n",
      "location                     object\n",
      "date                         object\n",
      "total_cases                   int64\n",
      "new_cases                     int64\n",
      "total_deaths                  int64\n",
      "new_deaths                    int64\n",
      "total_cases_per_million     float64\n",
      "new_cases_per_million       float64\n",
      "total_deaths_per_million    float64\n",
      "new_deaths_per_million      float64\n",
      "total_tests                 float64\n",
      "new_tests                   float64\n",
      "total_tests_per_thousand    float64\n",
      "new_tests_per_thousand      float64\n",
      "tests_units                  object\n",
      "dtype: object\n"
     ]
    }
   ],
   "source": [
    "print(df.dtypes)"
   ]
  }
 ],
 "metadata": {
  "kernelspec": {
   "display_name": "Python",
   "language": "python",
   "name": "conda-env-python-py"
  },
  "language_info": {
   "codemirror_mode": {
    "name": "ipython",
    "version": 3
   },
   "file_extension": ".py",
   "mimetype": "text/x-python",
   "name": "python",
   "nbconvert_exporter": "python",
   "pygments_lexer": "ipython3",
   "version": "3.6.10"
  }
 },
 "nbformat": 4,
 "nbformat_minor": 4
}
